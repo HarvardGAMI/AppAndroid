{
  "nbformat": 4,
  "nbformat_minor": 0,
  "metadata": {
    "colab": {
      "name": "Smoothing_Normalization.ipynb",
      "provenance": [],
      "collapsed_sections": [],
      "include_colab_link": true
    },
    "kernelspec": {
      "name": "python3",
      "display_name": "Python 3"
    }
  },
  "cells": [
    {
      "cell_type": "markdown",
      "metadata": {
        "id": "view-in-github",
        "colab_type": "text"
      },
      "source": [
        "<a href=\"https://colab.research.google.com/github/HarvardGAMI/AppAndroid/blob/master/Smoothing_Normalization.ipynb\" target=\"_parent\"><img src=\"https://colab.research.google.com/assets/colab-badge.svg\" alt=\"Open In Colab\"/></a>"
      ]
    },
    {
      "cell_type": "code",
      "metadata": {
        "id": "JI_pbf-b8lVU",
        "colab_type": "code",
        "colab": {}
      },
      "source": [
        "import numpy as np\n",
        "import cv2\n",
        "from google.colab import drive\n",
        "from google.colab.patches import cv2_imshow\n",
        "root_path = 'drive/My Drive/image2.jpeg'"
      ],
      "execution_count": 0,
      "outputs": []
    },
    {
      "cell_type": "code",
      "metadata": {
        "id": "Ubi1G73BfzQA",
        "colab_type": "code",
        "colab": {}
      },
      "source": [
        "random = cv2.imread(root_path)"
      ],
      "execution_count": 0,
      "outputs": []
    },
    {
      "cell_type": "code",
      "metadata": {
        "id": "wTnfGpen5kw7",
        "colab_type": "code",
        "outputId": "47834048-84c6-4860-c56a-b97e5971cda0",
        "colab": {
          "base_uri": "https://localhost:8080/",
          "height": 51
        }
      },
      "source": [
        "NORMALIZE = 10\n",
        "imageArr = np.array([[1, 2], [3, 4]])\n",
        "def normalize (imageArr):\n",
        "  radius = NORMALIZE\n",
        "  imgAvg = 0\n",
        "  newAlpha = 0\n",
        "  height = imageArr.shape[0]\n",
        "  width = imageArr.shape[1]\n",
        "  newArr = np.zeros((height, width))\n",
        "\n",
        "  for i in range(height):\n",
        "    for j in range(width):\n",
        "      imgAvg += imageArr[i][j]\n",
        "    imgAvg /= (height * width)\n",
        "\n",
        "  for x in range(width):\n",
        "    for y in range(height):\n",
        "      radAvg = 0\n",
        "      pixCount = 0\n",
        "      for xx in range(max(x-radius,0),min(x+radius,width-1)+1):\n",
        "        for yy in range(max(y-radius,0),min(y+radius,height-1)+1):\n",
        "          if pow((xx-x),2) + pow((yy-y),2) <= pow(radius, 2):\n",
        "            radAvg += imageArr[xx][yy]\n",
        "            pixCount += 1\n",
        "      radAvg /= pixCount\n",
        "      newAlpha = imageArr[x][y] + (imgAvg-radAvg)\n",
        "      newArr[x][y] = newAlpha\n",
        "  return newArr\n",
        "\n",
        "normalize (imageArr)"
      ],
      "execution_count": 0,
      "outputs": [
        {
          "output_type": "execute_result",
          "data": {
            "text/plain": [
              "array([[0.4375, 1.4375],\n",
              "       [2.4375, 3.4375]])"
            ]
          },
          "metadata": {
            "tags": []
          },
          "execution_count": 27
        }
      ]
    }
  ]
}